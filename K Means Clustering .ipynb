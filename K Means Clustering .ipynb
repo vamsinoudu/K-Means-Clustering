{
 "cells": [
  {
   "cell_type": "markdown",
   "id": "fc46f422",
   "metadata": {},
   "source": [
    "# K Means Clustering "
   ]
  },
  {
   "cell_type": "code",
   "execution_count": 1,
   "id": "9a6dfe4f",
   "metadata": {},
   "outputs": [],
   "source": [
    "import numpy as np\n",
    "import pandas as pd\n",
    "import matplotlib.pyplot as plt\n",
    "import seaborn as sns\n",
    "from sklearn.datasets import make_blobs\n",
    "import warnings\n",
    "warnings.filterwarnings('ignore')"
   ]
  },
  {
   "cell_type": "code",
   "execution_count": 2,
   "id": "b67df73c",
   "metadata": {},
   "outputs": [],
   "source": [
    "df=make_blobs(n_samples=200,n_features=2,\n",
    "              centers=4,\n",
    "             cluster_std=1.6,\n",
    "             random_state=50)"
   ]
  },
  {
   "cell_type": "code",
   "execution_count": 3,
   "id": "0b41f9f4",
   "metadata": {},
   "outputs": [],
   "source": [
    "points=df[0]"
   ]
  },
  {
   "cell_type": "code",
   "execution_count": 4,
   "id": "ca6fd8c8",
   "metadata": {},
   "outputs": [],
   "source": [
    "#import Kmeans:\n",
    "\n",
    "from sklearn.cluster import KMeans\n"
   ]
  },
  {
   "cell_type": "code",
   "execution_count": 5,
   "id": "a576fe13",
   "metadata": {},
   "outputs": [
    {
     "data": {
      "text/html": [
       "<style>#sk-container-id-1 {color: black;background-color: white;}#sk-container-id-1 pre{padding: 0;}#sk-container-id-1 div.sk-toggleable {background-color: white;}#sk-container-id-1 label.sk-toggleable__label {cursor: pointer;display: block;width: 100%;margin-bottom: 0;padding: 0.3em;box-sizing: border-box;text-align: center;}#sk-container-id-1 label.sk-toggleable__label-arrow:before {content: \"▸\";float: left;margin-right: 0.25em;color: #696969;}#sk-container-id-1 label.sk-toggleable__label-arrow:hover:before {color: black;}#sk-container-id-1 div.sk-estimator:hover label.sk-toggleable__label-arrow:before {color: black;}#sk-container-id-1 div.sk-toggleable__content {max-height: 0;max-width: 0;overflow: hidden;text-align: left;background-color: #f0f8ff;}#sk-container-id-1 div.sk-toggleable__content pre {margin: 0.2em;color: black;border-radius: 0.25em;background-color: #f0f8ff;}#sk-container-id-1 input.sk-toggleable__control:checked~div.sk-toggleable__content {max-height: 200px;max-width: 100%;overflow: auto;}#sk-container-id-1 input.sk-toggleable__control:checked~label.sk-toggleable__label-arrow:before {content: \"▾\";}#sk-container-id-1 div.sk-estimator input.sk-toggleable__control:checked~label.sk-toggleable__label {background-color: #d4ebff;}#sk-container-id-1 div.sk-label input.sk-toggleable__control:checked~label.sk-toggleable__label {background-color: #d4ebff;}#sk-container-id-1 input.sk-hidden--visually {border: 0;clip: rect(1px 1px 1px 1px);clip: rect(1px, 1px, 1px, 1px);height: 1px;margin: -1px;overflow: hidden;padding: 0;position: absolute;width: 1px;}#sk-container-id-1 div.sk-estimator {font-family: monospace;background-color: #f0f8ff;border: 1px dotted black;border-radius: 0.25em;box-sizing: border-box;margin-bottom: 0.5em;}#sk-container-id-1 div.sk-estimator:hover {background-color: #d4ebff;}#sk-container-id-1 div.sk-parallel-item::after {content: \"\";width: 100%;border-bottom: 1px solid gray;flex-grow: 1;}#sk-container-id-1 div.sk-label:hover label.sk-toggleable__label {background-color: #d4ebff;}#sk-container-id-1 div.sk-serial::before {content: \"\";position: absolute;border-left: 1px solid gray;box-sizing: border-box;top: 0;bottom: 0;left: 50%;z-index: 0;}#sk-container-id-1 div.sk-serial {display: flex;flex-direction: column;align-items: center;background-color: white;padding-right: 0.2em;padding-left: 0.2em;position: relative;}#sk-container-id-1 div.sk-item {position: relative;z-index: 1;}#sk-container-id-1 div.sk-parallel {display: flex;align-items: stretch;justify-content: center;background-color: white;position: relative;}#sk-container-id-1 div.sk-item::before, #sk-container-id-1 div.sk-parallel-item::before {content: \"\";position: absolute;border-left: 1px solid gray;box-sizing: border-box;top: 0;bottom: 0;left: 50%;z-index: -1;}#sk-container-id-1 div.sk-parallel-item {display: flex;flex-direction: column;z-index: 1;position: relative;background-color: white;}#sk-container-id-1 div.sk-parallel-item:first-child::after {align-self: flex-end;width: 50%;}#sk-container-id-1 div.sk-parallel-item:last-child::after {align-self: flex-start;width: 50%;}#sk-container-id-1 div.sk-parallel-item:only-child::after {width: 0;}#sk-container-id-1 div.sk-dashed-wrapped {border: 1px dashed gray;margin: 0 0.4em 0.5em 0.4em;box-sizing: border-box;padding-bottom: 0.4em;background-color: white;}#sk-container-id-1 div.sk-label label {font-family: monospace;font-weight: bold;display: inline-block;line-height: 1.2em;}#sk-container-id-1 div.sk-label-container {text-align: center;}#sk-container-id-1 div.sk-container {/* jupyter's `normalize.less` sets `[hidden] { display: none; }` but bootstrap.min.css set `[hidden] { display: none !important; }` so we also need the `!important` here to be able to override the default hidden behavior on the sphinx rendered scikit-learn.org. See: https://github.com/scikit-learn/scikit-learn/issues/21755 */display: inline-block !important;position: relative;}#sk-container-id-1 div.sk-text-repr-fallback {display: none;}</style><div id=\"sk-container-id-1\" class=\"sk-top-container\"><div class=\"sk-text-repr-fallback\"><pre>KMeans(n_clusters=4)</pre><b>In a Jupyter environment, please rerun this cell to show the HTML representation or trust the notebook. <br />On GitHub, the HTML representation is unable to render, please try loading this page with nbviewer.org.</b></div><div class=\"sk-container\" hidden><div class=\"sk-item\"><div class=\"sk-estimator sk-toggleable\"><input class=\"sk-toggleable__control sk-hidden--visually\" id=\"sk-estimator-id-1\" type=\"checkbox\" checked><label for=\"sk-estimator-id-1\" class=\"sk-toggleable__label sk-toggleable__label-arrow\">KMeans</label><div class=\"sk-toggleable__content\"><pre>KMeans(n_clusters=4)</pre></div></div></div></div></div>"
      ],
      "text/plain": [
       "KMeans(n_clusters=4)"
      ]
     },
     "execution_count": 5,
     "metadata": {},
     "output_type": "execute_result"
    }
   ],
   "source": [
    "kmeans=KMeans(n_clusters=4)\n",
    "kmeans.fit(points)"
   ]
  },
  {
   "cell_type": "code",
   "execution_count": 6,
   "id": "e5ebd0b3",
   "metadata": {},
   "outputs": [
    {
     "data": {
      "text/plain": [
       "<matplotlib.collections.PathCollection at 0x221633b4dc0>"
      ]
     },
     "execution_count": 6,
     "metadata": {},
     "output_type": "execute_result"
    },
    {
     "data": {
      "image/png": "[encoded data removed]",
      "text/plain": [
       "<Figure size 432x288 with 1 Axes>"
      ]
     },
     "metadata": {
      "needs_background": "light"
     },
     "output_type": "display_data"
    }
   ],
   "source": [
    "plt.scatter(df[0][:,0],df[0][:,-1])"
   ]
  },
  {
   "cell_type": "code",
   "execution_count": 7,
   "id": "0bd1ac7e",
   "metadata": {},
   "outputs": [],
   "source": [
    "clusters=kmeans.cluster_centers_"
   ]
  },
  {
   "cell_type": "code",
   "execution_count": 8,
   "id": "5e25b4d7",
   "metadata": {},
   "outputs": [
    {
     "name": "stdout",
     "output_type": "stream",
     "text": [
      "[[-1.92101646  5.21673484]\n",
      " [ 0.05161133 -5.35489826]\n",
      " [-5.56465793 -2.34988939]\n",
      " [-2.40167949 10.17352695]]\n"
     ]
    }
   ],
   "source": [
    "print(clusters)"
   ]
  },
  {
   "cell_type": "code",
   "execution_count": 9,
   "id": "6240fe57",
   "metadata": {},
   "outputs": [],
   "source": [
    "y_km=kmeans.fit_predict(points) "
   ]
  },
  {
   "cell_type": "code",
   "execution_count": 10,
   "id": "dad07329",
   "metadata": {},
   "outputs": [
    {
     "data": {
      "text/plain": [
       "array([3, 2, 1, 3, 0, 2, 3, 2, 2, 0, 0, 3, 0, 1, 0, 1, 3, 3, 0, 0, 0, 1,\n",
       "       3, 3, 3, 1, 3, 2, 1, 3, 3, 0, 0, 2, 2, 0, 0, 0, 1, 1, 3, 0, 1, 1,\n",
       "       2, 2, 3, 1, 1, 3, 2, 0, 1, 3, 1, 1, 2, 0, 0, 1, 2, 2, 3, 2, 2, 3,\n",
       "       2, 1, 3, 3, 2, 0, 3, 2, 1, 1, 0, 1, 1, 2, 0, 1, 0, 0, 0, 0, 3, 2,\n",
       "       3, 0, 2, 3, 2, 1, 1, 0, 2, 1, 2, 1, 0, 2, 1, 3, 1, 2, 1, 2, 0, 3,\n",
       "       2, 0, 3, 3, 0, 1, 3, 3, 1, 2, 3, 1, 3, 3, 2, 3, 3, 1, 1, 2, 0, 2,\n",
       "       2, 1, 3, 1, 2, 3, 3, 0, 3, 1, 1, 2, 0, 3, 2, 1, 2, 0, 3, 0, 1, 2,\n",
       "       2, 1, 3, 2, 2, 2, 1, 1, 2, 2, 0, 0, 0, 1, 2, 2, 2, 2, 0, 1, 2, 1,\n",
       "       0, 2, 3, 1, 2, 1, 1, 3, 0, 2, 0, 3, 1, 2, 1, 1, 0, 1, 2, 3, 0, 1,\n",
       "       0, 3])"
      ]
     },
     "execution_count": 10,
     "metadata": {},
     "output_type": "execute_result"
    }
   ],
   "source": [
    "y_km"
   ]
  },
  {
   "cell_type": "code",
   "execution_count": 11,
   "id": "11855f58",
   "metadata": {},
   "outputs": [
    {
     "data": {
      "image/png": "[encoded data removed]",
      "text/plain": [
       "<Figure size 432x288 with 1 Axes>"
      ]
     },
     "metadata": {
      "needs_background": "light"
     },
     "output_type": "display_data"
    }
   ],
   "source": [
    "#plt.scatter(clusters[0][0],clusters[0][1],marker=\"*\",s=200,color='black')\n",
    "\n",
    "plt.scatter(points[y_km==0,0],points[y_km==0,1],s=50,color='red')\n",
    "plt.scatter(points[y_km==1,0],points[y_km==1,1],s=50,color='green')\n",
    "plt.scatter(points[y_km==2,0],points[y_km==2,1],s=50,color='yellow')\n",
    "plt.scatter(points[y_km==3,0],points[y_km==3,1],s=50,color='cyan')\n",
    "plt.scatter(clusters[0][0],clusters[0][1],marker=\"*\",s=200,color='black')\n",
    "plt.scatter(clusters[1][0],clusters[1][1],marker=\"*\",s=200,color='black')\n",
    "plt.scatter(clusters[2][0],clusters[2][1],marker=\"*\",s=200,color='black')\n",
    "plt.scatter(clusters[3][0],clusters[3][1],marker=\"*\",s=200,color='black')\n",
    "plt.show()"
   ]
  }
 ],
 "metadata": {
  "kernelspec": {
   "display_name": "Python 3 (ipykernel)",
   "language": "python",
   "name": "python3"
  },
  "language_info": {
   "codemirror_mode": {
    "name": "ipython",
    "version": 3
   },
   "file_extension": ".py",
   "mimetype": "text/x-python",
   "name": "python",
   "nbconvert_exporter": "python",
   "pygments_lexer": "ipython3",
   "version": "3.9.7"
  }
 },
 "nbformat": 4,
 "nbformat_minor": 5
}
